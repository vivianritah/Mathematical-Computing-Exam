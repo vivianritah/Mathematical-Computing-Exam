{
 "cells": [
  {
   "cell_type": "markdown",
   "metadata": {},
   "source": [
    "A python program to solve three linear equations using matrices\n",
    "The equations are:\n",
    "2x+3y-z=5\n",
    "4x-y+2z=-3\n",
    "x+2y-3z=7"
   ]
  },
  {
   "cell_type": "code",
   "execution_count": 4,
   "metadata": {},
   "outputs": [
    {
     "name": "stdout",
     "output_type": "stream",
     "text": [
      "Solution is\n",
      "x= 0.29032258064516137\n",
      "y= 0.9354838709677419\n",
      "z= -1.6129032258064517\n"
     ]
    }
   ],
   "source": [
    "import numpy as np\n",
    "M=np.array([[2,3,-1],\n",
    "            [4,-1,2],\n",
    "            [1,2,-3]\n",
    "])\n",
    "N=np.array([5,-3,7])         #constants\n",
    "\n",
    "Answer=np.linalg.solve(M,N)\n",
    "print(\"Solution is\")\n",
    "print(\"x=\", Answer[0])\n",
    "print(\"y=\", Answer[1])\n",
    "print(\"z=\", Answer[2])"
   ]
  }
 ],
 "metadata": {
  "kernelspec": {
   "display_name": "Python 3",
   "language": "python",
   "name": "python3"
  },
  "language_info": {
   "codemirror_mode": {
    "name": "ipython",
    "version": 3
   },
   "file_extension": ".py",
   "mimetype": "text/x-python",
   "name": "python",
   "nbconvert_exporter": "python",
   "pygments_lexer": "ipython3",
   "version": "3.11.6"
  }
 },
 "nbformat": 4,
 "nbformat_minor": 2
}
