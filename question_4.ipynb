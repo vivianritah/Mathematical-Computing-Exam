{
 "cells": [
  {
   "cell_type": "code",
   "execution_count": 6,
   "metadata": {},
   "outputs": [],
   "source": [
    "import numpy as np\n",
    "\n",
    "# Constructing a matrix\n",
    "matrix = np.array([\n",
    "    [1, 0.2, 0.5],\n",
    "    [0.2, 1, 0.8],\n",
    "    [0.5, 0.8, 1]\n",
    "])\n"
   ]
  },
  {
   "cell_type": "code",
   "execution_count": 9,
   "metadata": {},
   "outputs": [
    {
     "name": "stdout",
     "output_type": "stream",
     "text": [
      "0.2299999999999999\n"
     ]
    }
   ],
   "source": [
    "#Determinant of a matrix\n",
    "determinant= np.linalg.det(matrix)\n",
    "print(determinant)"
   ]
  },
  {
   "cell_type": "code",
   "execution_count": 13,
   "metadata": {},
   "outputs": [
    {
     "name": "stdout",
     "output_type": "stream",
     "text": [
      "Original Matrix is \n",
      "[[1.  0.2 0.5]\n",
      " [0.2 1.  0.8]\n",
      " [0.5 0.8 1. ]]\n",
      "Lower Triangular Matrix is \n",
      "[[1.         0.         0.        ]\n",
      " [0.2        1.         0.        ]\n",
      " [0.5        0.72916667 1.        ]]\n",
      "Upper Triangular Matrix is\n",
      "[[1.         0.2        0.5       ]\n",
      " [0.         0.96       0.7       ]\n",
      " [0.         0.         0.23958333]]\n"
     ]
    }
   ],
   "source": [
    "#Decomposing the matrix\n",
    "import numpy as np\n",
    "from scipy.linalg import lu\n",
    "\n",
    "# Constructing a matrix\n",
    "matrix = np.array([\n",
    "    [1, 0.2, 0.5],\n",
    "    [0.2, 1, 0.8],\n",
    "    [0.5, 0.8, 1]\n",
    "])\n",
    "#performing lower and upper triangular matrix decomposition\n",
    "P, L, U = lu(matrix)\n",
    "\n",
    "print(f\"Original Matrix is \")\n",
    "print(matrix)\n",
    "\n",
    "print(f\"Lower Triangular Matrix is \")\n",
    "print(L)\n",
    "\n",
    "print(f\"Upper Triangular Matrix is\")\n",
    "print(U)\n"
   ]
  },
  {
   "cell_type": "code",
   "execution_count": 14,
   "metadata": {},
   "outputs": [
    {
     "name": "stdout",
     "output_type": "stream",
     "text": [
      "[[1.  0.2 0.5]\n",
      " [0.2 1.  0.8]\n",
      " [0.5 0.8 1. ]]\n"
     ]
    }
   ],
   "source": [
    "#transforming a matrix\n",
    "transformed_matrix= np.transpose(matrix)\n",
    "print(transformed_matrix)"
   ]
  }
 ],
 "metadata": {
  "kernelspec": {
   "display_name": "Python 3",
   "language": "python",
   "name": "python3"
  },
  "language_info": {
   "codemirror_mode": {
    "name": "ipython",
    "version": 3
   },
   "file_extension": ".py",
   "mimetype": "text/x-python",
   "name": "python",
   "nbconvert_exporter": "python",
   "pygments_lexer": "ipython3",
   "version": "3.11.6"
  }
 },
 "nbformat": 4,
 "nbformat_minor": 2
}
